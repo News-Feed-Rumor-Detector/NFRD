{
  "cells": [
    {
      "cell_type": "markdown",
      "source": [
        "###Clone the original repo"
      ],
      "metadata": {
        "id": "aRsH4IYhBXXm"
      }
    },
    {
      "cell_type": "code",
      "source": [
        "!git clone https://github.com/tlisart/RNN_rumor_detection.git"
      ],
      "metadata": {
        "colab": {
          "base_uri": "https://localhost:8080/"
        },
        "id": "p-w2ZRY7ycKo",
        "outputId": "b16485c3-1e87-4290-c0d2-92432c45bbe4"
      },
      "execution_count": null,
      "outputs": [
        {
          "output_type": "stream",
          "name": "stdout",
          "text": [
            "Cloning into 'RNN_rumor_detection'...\n",
            "remote: Enumerating objects: 17, done.\u001b[K\n",
            "remote: Counting objects: 100% (17/17), done.\u001b[K\n",
            "remote: Compressing objects: 100% (15/15), done.\u001b[K\n",
            "remote: Total 17 (delta 1), reused 17 (delta 1), pack-reused 0\u001b[K\n",
            "Receiving objects: 100% (17/17), 692.30 KiB | 14.13 MiB/s, done.\n",
            "Resolving deltas: 100% (1/1), done.\n"
          ]
        }
      ]
    },
    {
      "cell_type": "markdown",
      "source": [
        "###Download the edited repo"
      ],
      "metadata": {
        "id": "2JdGf9_kIGz4"
      }
    },
    {
      "cell_type": "code",
      "source": [
        "!gdown \"1nyPgKctZ8N_lVMlv3e7wqmjaU1V3u15U\""
      ],
      "metadata": {
        "colab": {
          "base_uri": "https://localhost:8080/"
        },
        "id": "KQ8N5fCzBDIf",
        "outputId": "d830a8cd-45e6-43cc-e335-824893a75b8d"
      },
      "execution_count": 1,
      "outputs": [
        {
          "output_type": "stream",
          "name": "stdout",
          "text": [
            "Downloading...\n",
            "From: https://drive.google.com/uc?id=1nyPgKctZ8N_lVMlv3e7wqmjaU1V3u15U\n",
            "To: /content/RNN_rumor_detection.zip\n",
            "\r  0% 0.00/1.44M [00:00<?, ?B/s]\r100% 1.44M/1.44M [00:00<00:00, 101MB/s]\n"
          ]
        }
      ]
    },
    {
      "cell_type": "code",
      "source": [
        "! unzip -q RNN_rumor_detection.zip\n"
      ],
      "metadata": {
        "id": "cqkIjWBh_jVo"
      },
      "execution_count": 2,
      "outputs": []
    },
    {
      "cell_type": "markdown",
      "source": [
        "###Download the Data files"
      ],
      "metadata": {
        "id": "cr5etnKwIQ1C"
      }
    },
    {
      "cell_type": "code",
      "source": [
        "!gdown \"1D3a1vz0UyzFzObL6yIlmmy968Am-zLHO\"\n",
        "!gdown \"1nx248smdw9tDvbDrxJn6F6nWPo2p0TzD\"\n",
        "!gdown \"118qNVYUzH8KF520HHsiJoF9sZW6LbZ3l\"\n",
        "!gdown \"1e642tKJAVU3Mw4jAbGSkOsF9ynHMtMdU\"\n"
      ],
      "metadata": {
        "colab": {
          "base_uri": "https://localhost:8080/"
        },
        "id": "AUOtKWTi0HBv",
        "outputId": "38146adc-1a28-44e5-e517-e5f33e0f43f0"
      },
      "execution_count": 3,
      "outputs": [
        {
          "output_type": "stream",
          "name": "stdout",
          "text": [
            "Downloading...\n",
            "From: https://drive.google.com/uc?id=1D3a1vz0UyzFzObL6yIlmmy968Am-zLHO\n",
            "To: /content/Weibo.txt\n",
            "100% 63.6M/63.6M [00:00<00:00, 71.5MB/s]\n",
            "Downloading...\n",
            "From: https://drive.google.com/uc?id=1nx248smdw9tDvbDrxJn6F6nWPo2p0TzD\n",
            "To: /content/RNN_data_test.txt\n",
            "100% 30.6M/30.6M [00:00<00:00, 81.9MB/s]\n",
            "Downloading...\n",
            "From: https://drive.google.com/uc?id=118qNVYUzH8KF520HHsiJoF9sZW6LbZ3l\n",
            "To: /content/RNN_data_val.txt\n",
            "100% 33.3M/33.3M [00:00<00:00, 62.5MB/s]\n",
            "Downloading...\n",
            "From: https://drive.google.com/uc?id=1e642tKJAVU3Mw4jAbGSkOsF9ynHMtMdU\n",
            "To: /content/RNN_data_train.txt\n",
            "100% 127M/127M [00:00<00:00, 151MB/s]\n"
          ]
        }
      ]
    },
    {
      "cell_type": "code",
      "source": [
        "!python /content/Preprocessing.py\n"
      ],
      "metadata": {
        "colab": {
          "base_uri": "https://localhost:8080/"
        },
        "id": "UB0h0aXey8us",
        "outputId": "a519d1e3-0505-4494-b3da-a4e752a0b9a1"
      },
      "execution_count": 4,
      "outputs": [
        {
          "output_type": "stream",
          "name": "stdout",
          "text": [
            "2023-12-24 14:05:36.107024: E external/local_xla/xla/stream_executor/cuda/cuda_dnn.cc:9261] Unable to register cuDNN factory: Attempting to register factory for plugin cuDNN when one has already been registered\n",
            "2023-12-24 14:05:36.107104: E external/local_xla/xla/stream_executor/cuda/cuda_fft.cc:607] Unable to register cuFFT factory: Attempting to register factory for plugin cuFFT when one has already been registered\n",
            "2023-12-24 14:05:36.109517: E external/local_xla/xla/stream_executor/cuda/cuda_blas.cc:1515] Unable to register cuBLAS factory: Attempting to register factory for plugin cuBLAS when one has already been registered\n",
            "2023-12-24 14:05:36.124361: I tensorflow/core/platform/cpu_feature_guard.cc:182] This TensorFlow binary is optimized to use available CPU instructions in performance-critical operations.\n",
            "To enable the following instructions: AVX2 FMA, in other operations, rebuild TensorFlow with the appropriate compiler flags.\n",
            "2023-12-24 14:05:38.815750: W tensorflow/compiler/tf2tensorrt/utils/py_utils.cc:38] TF-TRT Warning: Could not find TensorRT\n"
          ]
        }
      ]
    },
    {
      "cell_type": "code",
      "source": [
        "!python /content/Experiments.py\n"
      ],
      "metadata": {
        "colab": {
          "base_uri": "https://localhost:8080/"
        },
        "id": "EimtP_EV3xDt",
        "outputId": "e4ec1802-31a3-4ed8-fd1a-608aba70a310"
      },
      "execution_count": 5,
      "outputs": [
        {
          "output_type": "stream",
          "name": "stdout",
          "text": [
            "2023-12-24 14:07:25.864372: E external/local_xla/xla/stream_executor/cuda/cuda_dnn.cc:9261] Unable to register cuDNN factory: Attempting to register factory for plugin cuDNN when one has already been registered\n",
            "2023-12-24 14:07:25.864458: E external/local_xla/xla/stream_executor/cuda/cuda_fft.cc:607] Unable to register cuFFT factory: Attempting to register factory for plugin cuFFT when one has already been registered\n",
            "2023-12-24 14:07:25.866158: E external/local_xla/xla/stream_executor/cuda/cuda_blas.cc:1515] Unable to register cuBLAS factory: Attempting to register factory for plugin cuBLAS when one has already been registered\n",
            "2023-12-24 14:07:25.875670: I tensorflow/core/platform/cpu_feature_guard.cc:182] This TensorFlow binary is optimized to use available CPU instructions in performance-critical operations.\n",
            "To enable the following instructions: AVX2 FMA, in other operations, rebuild TensorFlow with the appropriate compiler flags.\n",
            "2023-12-24 14:07:27.505037: W tensorflow/compiler/tf2tensorrt/utils/py_utils.cc:38] TF-TRT Warning: Could not find TensorRT\n",
            "Model: \"sequential\"\n",
            "_________________________________________________________________\n",
            " Layer (type)                Output Shape              Param #   \n",
            "=================================================================\n",
            " dense (Dense)               (None, 10, 100)           250100    \n",
            "                                                                 \n",
            " simple_rnn (SimpleRNN)      (None, 10)                1110      \n",
            "                                                                 \n",
            " dropout (Dropout)           (None, 10)                0         \n",
            "                                                                 \n",
            " dense_1 (Dense)             (None, 2)                 22        \n",
            "                                                                 \n",
            "=================================================================\n",
            "Total params: 251232 (981.38 KB)\n",
            "Trainable params: 251232 (981.38 KB)\n",
            "Non-trainable params: 0 (0.00 Byte)\n",
            "_________________________________________________________________\n",
            "Epoch 1/20\n",
            "51/51 [==============================] - 4s 43ms/step - loss: 1.3516 - accuracy: 0.6275 - val_loss: 0.8072 - val_accuracy: 0.6186\n",
            "Epoch 2/20\n",
            "51/51 [==============================] - 1s 28ms/step - loss: 0.7379 - accuracy: 0.6706 - val_loss: 0.7112 - val_accuracy: 0.6757\n",
            "Epoch 3/20\n",
            "51/51 [==============================] - 2s 40ms/step - loss: 0.6784 - accuracy: 0.6850 - val_loss: 0.6687 - val_accuracy: 0.6971\n",
            "Epoch 4/20\n",
            "51/51 [==============================] - 2s 47ms/step - loss: 0.6562 - accuracy: 0.6933 - val_loss: 0.6489 - val_accuracy: 0.6914\n",
            "Epoch 5/20\n",
            "51/51 [==============================] - 1s 28ms/step - loss: 0.6370 - accuracy: 0.6982 - val_loss: 0.6343 - val_accuracy: 0.7071\n",
            "Epoch 6/20\n",
            "51/51 [==============================] - 1s 27ms/step - loss: 0.6277 - accuracy: 0.6970 - val_loss: 0.6300 - val_accuracy: 0.6971\n",
            "Epoch 7/20\n",
            "51/51 [==============================] - 1s 27ms/step - loss: 0.6225 - accuracy: 0.6952 - val_loss: 0.6347 - val_accuracy: 0.6800\n",
            "Epoch 8/20\n",
            "51/51 [==============================] - 1s 27ms/step - loss: 0.6186 - accuracy: 0.6973 - val_loss: 0.6473 - val_accuracy: 0.6743\n",
            "Epoch 9/20\n",
            "51/51 [==============================] - 2s 31ms/step - loss: 0.6186 - accuracy: 0.6945 - val_loss: 0.6245 - val_accuracy: 0.6900\n",
            "Epoch 10/20\n",
            "51/51 [==============================] - 1s 28ms/step - loss: 0.6087 - accuracy: 0.7013 - val_loss: 0.6112 - val_accuracy: 0.7086\n",
            "Epoch 11/20\n",
            "51/51 [==============================] - 2s 31ms/step - loss: 0.6059 - accuracy: 0.7025 - val_loss: 0.6165 - val_accuracy: 0.6900\n",
            "Epoch 12/20\n",
            "51/51 [==============================] - 2s 46ms/step - loss: 0.6053 - accuracy: 0.7040 - val_loss: 0.6193 - val_accuracy: 0.6986\n",
            "Epoch 13/20\n",
            "51/51 [==============================] - 2s 48ms/step - loss: 0.6134 - accuracy: 0.6878 - val_loss: 0.6096 - val_accuracy: 0.7043\n",
            "Epoch 14/20\n",
            "51/51 [==============================] - 2s 32ms/step - loss: 0.6036 - accuracy: 0.7007 - val_loss: 0.6077 - val_accuracy: 0.7029\n",
            "Epoch 15/20\n",
            "51/51 [==============================] - 1s 28ms/step - loss: 0.6024 - accuracy: 0.6994 - val_loss: 0.6023 - val_accuracy: 0.7071\n",
            "Epoch 16/20\n",
            "51/51 [==============================] - 1s 27ms/step - loss: 0.5978 - accuracy: 0.7034 - val_loss: 0.6584 - val_accuracy: 0.6500\n",
            "Epoch 17/20\n",
            "51/51 [==============================] - 1s 27ms/step - loss: 0.6042 - accuracy: 0.6976 - val_loss: 0.6094 - val_accuracy: 0.7000\n",
            "Epoch 18/20\n",
            "51/51 [==============================] - 1s 27ms/step - loss: 0.5957 - accuracy: 0.7071 - val_loss: 0.6207 - val_accuracy: 0.6843\n",
            "Epoch 19/20\n",
            "51/51 [==============================] - 1s 28ms/step - loss: 0.5939 - accuracy: 0.7031 - val_loss: 0.5975 - val_accuracy: 0.7114\n",
            "Epoch 20/20\n",
            "51/51 [==============================] - 2s 37ms/step - loss: 0.5953 - accuracy: 0.7108 - val_loss: 0.6031 - val_accuracy: 0.6957\n",
            "22/22 [==============================] - 0s 7ms/step\n",
            "Accuracy=0.67\n",
            "E(Accuracy)0.6742857142857143Amount experiments : 1\n"
          ]
        }
      ]
    }
  ],
  "metadata": {
    "colab": {
      "provenance": []
    },
    "kernelspec": {
      "display_name": "Python 3",
      "name": "python3"
    },
    "language_info": {
      "name": "python"
    }
  },
  "nbformat": 4,
  "nbformat_minor": 0
}